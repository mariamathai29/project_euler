{
  "nbformat": 4,
  "nbformat_minor": 0,
  "metadata": {
    "colab": {
      "provenance": [],
      "authorship_tag": "ABX9TyNRtRozR2PT3g/GdU1cFtVD",
      "include_colab_link": true
    },
    "kernelspec": {
      "name": "python3",
      "display_name": "Python 3"
    },
    "language_info": {
      "name": "python"
    }
  },
  "cells": [
    {
      "cell_type": "markdown",
      "metadata": {
        "id": "view-in-github",
        "colab_type": "text"
      },
      "source": [
        "<a href=\"https://colab.research.google.com/github/mariamathai29/project_euler/blob/main/001_005.ipynb\" target=\"_parent\"><img src=\"https://colab.research.google.com/assets/colab-badge.svg\" alt=\"Open In Colab\"/></a>"
      ]
    },
    {
      "cell_type": "code",
      "execution_count": null,
      "metadata": {
        "id": "lGpdsPPplDux"
      },
      "outputs": [],
      "source": [
        "# 001\n",
        "# ANSWER: 233168\n",
        "sum = 0\n",
        "for i in range (0,1000):\n",
        "\n",
        "  if i%3==0 or i%5==0:\n",
        "    sum+=i\n",
        "\n",
        "print(sum)"
      ]
    },
    {
      "cell_type": "code",
      "source": [
        "# 002\n",
        "# ANSWER: 4613732\n",
        "\n",
        "a=1\n",
        "b=2\n",
        "new = 0\n",
        "sum = 0\n",
        "while new < 4000000:\n",
        "  if b%2==0:\n",
        "    sum+=b\n",
        "\n",
        "  new = a+b\n",
        "  a = b\n",
        "  b = new\n",
        "\n",
        "print(sum)"
      ],
      "metadata": {
        "id": "z80-8x7il0UJ"
      },
      "execution_count": null,
      "outputs": []
    },
    {
      "cell_type": "code",
      "source": [
        "# 003\n",
        "# ANSWER: 6857\n",
        "\n",
        "def is_prime(n):\n",
        "    if n <= 1:\n",
        "        return False\n",
        "    for i in range(2, int(n**0.5) + 1):\n",
        "        if n%i == 0:\n",
        "            return False\n",
        "    return True\n",
        "\n",
        "def prime_fac(n):\n",
        "    fac = 2\n",
        "    while fac*fac <= n:\n",
        "        if n%fac == 0:\n",
        "            n /= fac\n",
        "        else:\n",
        "            fac += 1\n",
        "    return n\n",
        "\n",
        "num = 600851475143\n",
        "print(prime_fac(num))"
      ],
      "metadata": {
        "id": "2fwyYN1Lmk4r"
      },
      "execution_count": null,
      "outputs": []
    },
    {
      "cell_type": "code",
      "source": [
        "# 004\n",
        "# ANSWER: 906609\n",
        "\n",
        "pal = 0\n",
        "for i in range (100,1000):\n",
        "  for j in range (100,1000):\n",
        "    cur = i*j\n",
        "    if str(cur) == str(cur)[::-1]:\n",
        "      if cur > pal:\n",
        "        pal=cur\n",
        "\n",
        "print(pal)\n"
      ],
      "metadata": {
        "id": "ImEm-rxJpYz4"
      },
      "execution_count": null,
      "outputs": []
    },
    {
      "cell_type": "code",
      "source": [
        "# 005\n",
        "# ANSWER: 232792560\n",
        "import math\n",
        "\n",
        "def lcm(a, b):\n",
        "    return abs(a * b) // math.gcd(a, b)\n",
        "\n",
        "result = 1\n",
        "for i in range(1, 21):\n",
        "    result = lcm(result, i)\n",
        "\n",
        "print(result)"
      ],
      "metadata": {
        "id": "3oG0Ktz8qzkC"
      },
      "execution_count": null,
      "outputs": []
    }
  ]
}